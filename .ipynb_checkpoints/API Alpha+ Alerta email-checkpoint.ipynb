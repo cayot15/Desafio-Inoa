{
 "cells": [
  {
   "cell_type": "code",
   "execution_count": 3,
   "id": "95e0761d",
   "metadata": {},
   "outputs": [
    {
     "name": "stdout",
     "output_type": "stream",
     "text": [
      "68.37\n"
     ]
    }
   ],
   "source": [
    "import pandas as pd #data manipulation and analysis package I\n",
    "from alpha_vantage.timeseries import TimeSeries #enables data pull from Alpha Vantage\n",
    "import matplotlib.pyplot as plt #if you want to plot your findings\n",
    "import time\n",
    "import smtplib #enables you to send emails\n",
    "#Getting the data from alpha_vantage\n",
    "ts = TimeSeries(key='0WC0DY1J9IV53XEM', output_format='pandas')\n",
    "data, meta_data = ts.get_daily(symbol='VALE3.SA', outputsize='full')\n",
    "#We are currently interested in the latest price\n",
    "close_data = data['4. close'] #The close data column\n",
    "last_price = close_data[0] #Selecting the last price from the close_data column\n",
    "#Check if you're getting a correct value\n",
    "print(data)\n",
    "print(last_price)\n",
    "#Set the desired message you want to see once the stock price is at a certain level\n",
    "sender_email = \"cayotsantos@gmail.com\" #The sender email\n",
    "rec_email = \"cayoboladao@gmail.com\" #The receiver email\n",
    "password = (\"pyjskgaitrylwrwr\")#The password to the sender email\n",
    "message = \"MSFT STOCK ALERT!!! The stock is at above price you set \" + \"%.6f\" % last_price #The message you want to send\n",
    "target_sell_price = 220 #enter the price you want to sell at\n",
    "if last_price > target_sell_price:\n",
    "    server = smtplib.SMTP('smtp.gmail.com', 587)\n",
    "    server.starttls()\n",
    "    server.login(sender_email, password) #logs into your email account\n",
    "    print(\"Login Success\")#confirms that you have logged in succesfully\n",
    "    server.sendmail(sender_email, rec_email, message)#send the email with your custom mesage\n",
    "    print(\"Email was sent\") #confirms that the email was sent"
   ]
  }
 ],
 "metadata": {
  "kernelspec": {
   "display_name": "Python 3 (ipykernel)",
   "language": "python",
   "name": "python3"
  },
  "language_info": {
   "codemirror_mode": {
    "name": "ipython",
    "version": 3
   },
   "file_extension": ".py",
   "mimetype": "text/x-python",
   "name": "python",
   "nbconvert_exporter": "python",
   "pygments_lexer": "ipython3",
   "version": "3.9.7"
  }
 },
 "nbformat": 4,
 "nbformat_minor": 5
}
